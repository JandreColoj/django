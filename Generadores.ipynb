{
 "cells": [
  {
   "cell_type": "markdown",
   "metadata": {},
   "source": [
    "### Funcion normal\n"
   ]
  },
  {
   "cell_type": "code",
   "execution_count": 60,
   "metadata": {},
   "outputs": [
    {
     "name": "stdout",
     "output_type": "stream",
     "text": [
      "2\n",
      "4\n",
      "6\n",
      "8\n",
      "10\n",
      "12\n",
      "14\n",
      "16\n",
      "18\n"
     ]
    }
   ],
   "source": [
    "def generaPares(limite):\n",
    "    num = 1\n",
    "    \n",
    "    Lista = []\n",
    "    \n",
    "    while num<limite:\n",
    "        Lista.append(num*2)\n",
    "        num=num+1\n",
    "        \n",
    "    return Lista\n",
    "        \n",
    "\n",
    "a = generaPares(10)\n",
    "\n",
    "for i in a:\n",
    "    print(i)\n",
    "\n",
    "# print(a)"
   ]
  },
  {
   "cell_type": "markdown",
   "metadata": {},
   "source": [
    "### Generadores\n",
    "Para empezar, diremos que los generadores constituyen un determinado tipo de estructura que, a diferencia de lo que sucede con las funciones corrientes, no nos va a devolver un valor concreto, sino un objeto iterable cuyos resultados se van a ir generando uno a uno."
   ]
  },
  {
   "cell_type": "code",
   "execution_count": 63,
   "metadata": {},
   "outputs": [
    {
     "name": "stdout",
     "output_type": "stream",
     "text": [
      "2\n",
      "4\n",
      "6\n"
     ]
    }
   ],
   "source": [
    "def generadorPares(limite):\n",
    "    num = 1\n",
    "     \n",
    "    while num<limite: \n",
    "        \n",
    "        yield num*2\n",
    "        num=num+1 \n",
    "        \n",
    "\n",
    "resultado = generadorPares(5)\n",
    "\n",
    "print(next(resultado))\n",
    "print(next(resultado))\n",
    "print(next(resultado))\n",
    " \n",
    "# for i in resultado:\n",
    "#    print(i) \n",
    "\n"
   ]
  },
  {
   "cell_type": "markdown",
   "metadata": {},
   "source": [
    "### Generadores Yield From\n"
   ]
  },
  {
   "cell_type": "code",
   "execution_count": 56,
   "metadata": {},
   "outputs": [
    {
     "name": "stdout",
     "output_type": "stream",
     "text": [
      "g\n",
      "u\n",
      "a\n",
      "t\n"
     ]
    }
   ],
   "source": [
    "#cuando agregamo asterisco va a recibir un numero ideterminado numero de argumentos\n",
    "#y las recibe en forma de tupla.\n",
    "def devuelve_ciudades(*ciudades):\n",
    "    for elemento in ciudades: \n",
    "        yield from elemento\n",
    "         \n",
    "a = devuelve_ciudades('guatemala','honduras','panama')\n",
    "\n",
    "print(next(a))\n",
    "print(next(a))\n",
    "print(next(a))\n",
    "print(next(a))"
   ]
  },
  {
   "cell_type": "code",
   "execution_count": null,
   "metadata": {},
   "outputs": [],
   "source": []
  }
 ],
 "metadata": {
  "kernelspec": {
   "display_name": "Python 3",
   "language": "python",
   "name": "python3"
  },
  "language_info": {
   "codemirror_mode": {
    "name": "ipython",
    "version": 3
   },
   "file_extension": ".py",
   "mimetype": "text/x-python",
   "name": "python",
   "nbconvert_exporter": "python",
   "pygments_lexer": "ipython3",
   "version": "3.7.1"
  }
 },
 "nbformat": 4,
 "nbformat_minor": 2
}
