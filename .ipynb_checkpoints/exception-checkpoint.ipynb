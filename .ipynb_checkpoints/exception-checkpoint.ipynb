{
 "cells": [
  {
   "cell_type": "markdown",
   "metadata": {},
   "source": [
    "### Excepciones:\n",
    "    Errores que ocurren en tiempo de ejecucion\n",
    "    \n",
    "    "
   ]
  },
  {
   "cell_type": "code",
   "execution_count": null,
   "metadata": {},
   "outputs": [],
   "source": [
    "def suma(num1, num2):\n",
    "\treturn num1+num2\n",
    "\n",
    "def resta(num1, num2):\n",
    "\treturn num1-num2\n",
    "\n",
    "def multiplica(num1, num2):\n",
    "\treturn num1*num2\n",
    "\n",
    "def divide(num1,num2):\t\n",
    "    \n",
    "    try:\n",
    "        \n",
    "        return num1/num2\n",
    "    \n",
    "    except ZeroDivisionError:\n",
    "        \n",
    "        return \"no se puede dividir entre 0\"\n",
    "    \n",
    "    except ValueError:\n",
    "        \n",
    "        return \"error de valores\"\n",
    "    \n",
    "    finally:\n",
    "        \n",
    "        return \"final del programa\"\n",
    "\t\n",
    "\n",
    "op1=(int(input(\"Introduce el primer número: \")))\n",
    "\n",
    "op2=(int(input(\"Introduce el segundo número: \")))\t\t\n",
    "\t\n",
    "operacion=input(\"Introduce la operación a realizar (suma,resta,multiplica,divide): \")\n",
    "\n",
    "if operacion==\"suma\":\n",
    "\tprint(suma(op1,op2))\n",
    "\n",
    "elif operacion==\"resta\":\n",
    "\tprint(resta(op1,op2))\n",
    "\n",
    "elif operacion==\"multiplica\":\n",
    "\tprint(multiplica(op1,op2))\n",
    "\n",
    "elif operacion==\"divide\":\n",
    "\tprint(divide(op1,op2))\n",
    "\n",
    "else:\n",
    "\tprint (\"Operación no contemplada\")\n",
    "\n",
    "\n",
    "print(\"Operación ejecutada. Continuación de ejecúción del programa \")\n"
   ]
  },
  {
   "cell_type": "markdown",
   "metadata": {},
   "source": [
    "#### EXCEPTION"
   ]
  },
  {
   "cell_type": "code",
   "execution_count": 11,
   "metadata": {},
   "outputs": [
    {
     "name": "stdout",
     "output_type": "stream",
     "text": [
      "joven\n"
     ]
    }
   ],
   "source": [
    "def evaluarEdad(edad):\n",
    "    if edad<20:\n",
    "        return \"joven\"\n",
    "    else:\n",
    "        return \"viejo\"\n",
    "    \n",
    "print(evaluarEdad(19))"
   ]
  }
 ],
 "metadata": {
  "kernelspec": {
   "display_name": "Python 3",
   "language": "python",
   "name": "python3"
  },
  "language_info": {
   "codemirror_mode": {
    "name": "ipython",
    "version": 3
   },
   "file_extension": ".py",
   "mimetype": "text/x-python",
   "name": "python",
   "nbconvert_exporter": "python",
   "pygments_lexer": "ipython3",
   "version": "3.7.1"
  }
 },
 "nbformat": 4,
 "nbformat_minor": 2
}
